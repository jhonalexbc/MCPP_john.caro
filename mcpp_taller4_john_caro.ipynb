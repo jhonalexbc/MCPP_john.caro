{
 "cells": [
  {
   "cell_type": "markdown",
   "metadata": {},
   "source": [
    "# Taller 4\n",
    "Métodos Computacionales para Políticas Públicas - URosario\n",
    "\n",
    "**Entrega: viernes 2-sep-2016 11:59 PM**"
   ]
  },
  {
   "cell_type": "markdown",
   "metadata": {},
   "source": [
    "<div class=\"alert alert-success\">\n",
    "**[John Alexander Caro Becerra]** <br><br>\n",
    "[jhonalexbc@gmail.com]\n",
    "</div>"
   ]
  },
  {
   "cell_type": "markdown",
   "metadata": {},
   "source": [
    "## Instrucciones:\n",
    "- Guarde una copia de este *Jupyter Notebook* en su computador, idealmente en una carpeta destinada al material del curso.\n",
    "- Modifique el nombre del archivo del *notebook*, agregando al final un guión inferior y su nombre y apellido, separados estos últimos por otro guión inferior. Por ejemplo, mi *notebook* se llamaría: mcpp_taller4_santiago_matallana\n",
    "- Marque el *notebook* con su nombre y e-mail en el bloque verde arriba. Reemplace el texto \"[Su nombre acá]\" con su nombre y apellido. Similar para su e-mail.\n",
    "- Desarrolle la totalidad del taller sobre este *notebook*, insertando las celdas que sea necesario debajo de cada pregunta. Haga buen uso de las celdas para código y de las celdas tipo *markdown* según el caso.\n",
    "- Recuerde salvar periódicamente sus avances.\n",
    "- Cuando termine el taller:\n",
    "    1. Descárguelo en PDF.\n",
    "    2. Suba los dos archivos (.pdf y .ipynb) a su repositorio en GitHub antes de la fecha y hora límites.\n",
    "\n",
    "(Todos los ejercicios tienen el mismo valor.)"
   ]
  },
  {
   "cell_type": "markdown",
   "metadata": {},
   "source": [
    "---"
   ]
  },
  {
   "cell_type": "markdown",
   "metadata": {},
   "source": [
    "## Zelle, Exercises 6.8 (p. 159):\n",
    "\n",
    "- True/False: 1-10\n",
    "- Multiple choice: 2, 3, 6, 7, 10\n",
    "- Programming Exercises: 1, 3, 4, 11, 12, 13"
   ]
  },
  {
   "cell_type": "markdown",
   "metadata": {
    "collapsed": true
   },
   "source": [
    "# True / False\n",
    "1 Programmers rarely define their own functions.\n",
    "\n",
    "False. Los programadores a menudo usan funciones para reducir el código duplicado y hacer un programa mejor organizado y más modular\n",
    "\n",
    "2 A function may only be called at one place in a program.\n",
    "\n",
    "False. Una función puede ser llamada en muchos puntos diferentes en un programa\n",
    "\n",
    "3 Information can be passed into a function through parameters.\n",
    "\n",
    "True.\n",
    "\n",
    "4 Every Python function returns some value.\n",
    "\n",
    "True. Si no nos volvemos explícitamente un valor con una instrucción de retorno, se devuelve el valor Ninguno\n",
    "\n",
    "5 In Python, some parameters are passed by reference.\n",
    "\n",
    "False. Python no permite el paso de parámetros por referencia. Python pasa parámetros por \"valor\"\n",
    "\n",
    "6 In Python, a function can return only one value.\n",
    "\n",
    "False. Las funciones pueden devolver más de un valor haciendo una lista de las expresiones de la instrucción de retorno\n",
    "\n",
    "7 Python functions can never modify a parameter.\n",
    "\n",
    "False. Las funciones de Python puede modificar los objetos mutables como listas y objetos\n",
    "\n",
    "8 One reason to use functions is to reduce code duplication.\n",
    "\n",
    "True.\n",
    "\n",
    "9 Variables defined in a function are local to that function.\n",
    "\n",
    "True.\n",
    "\n",
    "10 It's a bad idea to define new functions if it makes a program longer.\n",
    "\n",
    "False. Las funciones pueden ser útiles para organizar el código, incluso si el resultado final es que el programa sea un poco más"
   ]
  },
  {
   "cell_type": "markdown",
   "metadata": {},
   "source": [
    "# Multiple choice\n",
    "\n",
    "1 The part of a program that uses a function is called the\n",
    "\n",
    "(b) caller\n",
    "\n",
    "2 A Python function definition begins with\n",
    "\n",
    "(a) def\n",
    "\n",
    "3 A function can send output back to the program with a(n)\n",
    "\n",
    "(a) return\n",
    "\n",
    "4 Formal and actual parameters are matched up by\n",
    "\n",
    "(b) position\n",
    "\n",
    "5 Which of the following is not a step in the function-calling process?\n",
    "\n",
    "(d) Control returns to the point just before the function was called.\n",
    "\n",
    "6 In Python, actual parameters are passed to functions\n",
    "\n",
    "(a) by value\n",
    "\n",
    "7 Which of the following is not a reason to use functions?\n",
    "\n",
    "(d) to demonstrate intellectual superiority\n",
    "\n",
    "8 If a function returns a value, it should generally be called from\n",
    "\n",
    "(a) an expression\n",
    "\n",
    "9 A function with no return statement returns\n",
    "\n",
    "(d) None\n",
    "\n",
    "10 A function can modify the value of an actual parameter only if it's\n",
    "\n",
    "(a) mutable"
   ]
  },
  {
   "cell_type": "markdown",
   "metadata": {},
   "source": [
    "# Programming Exercises"
   ]
  },
  {
   "cell_type": "markdown",
   "metadata": {},
   "source": [
    "### 1."
   ]
  },
  {
   "cell_type": "code",
   "execution_count": 2,
   "metadata": {
    "collapsed": false
   },
   "outputs": [
    {
     "name": "stdout",
     "output_type": "stream",
     "text": [
      "El viejo MacDonald tenía una granja, Ee-IGH, Ee-IGH, Oh! \n",
      "    Y en esa granja tenía una vaca, Ee-IGH, Ee-IGH, Oh! \n",
      "    Con su MOOO aquí, con su MOOO allá, \n",
      "    MOOO aquí, MOOO allá, siempre con su MOOO MOOO. \n",
      "    El viejo MacDonald tiene una granja, Ee-IGH, Ee-IGH, Oh!\n",
      "\n",
      "El viejo MacDonald tenía una granja, Ee-IGH, Ee-IGH, Oh! \n",
      "    Y en esa granja tenía una pollo, Ee-IGH, Ee-IGH, Oh! \n",
      "    Con su PIO aquí, con su PIO allá, \n",
      "    PIO aquí, PIO allá, siempre con su PIO PIO. \n",
      "    El viejo MacDonald tiene una granja, Ee-IGH, Ee-IGH, Oh!\n",
      "\n",
      "El viejo MacDonald tenía una granja, Ee-IGH, Ee-IGH, Oh! \n",
      "    Y en esa granja tenía una dog, Ee-IGH, Ee-IGH, Oh! \n",
      "    Con su WOOF aquí, con su WOOF allá, \n",
      "    WOOF aquí, WOOF allá, siempre con su WOOF WOOF. \n",
      "    El viejo MacDonald tiene una granja, Ee-IGH, Ee-IGH, Oh!\n",
      "\n",
      "El viejo MacDonald tenía una granja, Ee-IGH, Ee-IGH, Oh! \n",
      "    Y en esa granja tenía una cerdo, Ee-IGH, Ee-IGH, Oh! \n",
      "    Con su OINC aquí, con su OINC allá, \n",
      "    OINC aquí, OINC allá, siempre con su OINC OINC. \n",
      "    El viejo MacDonald tiene una granja, Ee-IGH, Ee-IGH, Oh!\n",
      "\n",
      "El viejo MacDonald tenía una granja, Ee-IGH, Ee-IGH, Oh! \n",
      "    Y en esa granja tenía una PATO, Ee-IGH, Ee-IGH, Oh! \n",
      "    Con su QUACK aquí, con su QUACK allá, \n",
      "    QUACK aquí, QUACK allá, siempre con su QUACK QUACK. \n",
      "    El viejo MacDonald tiene una granja, Ee-IGH, Ee-IGH, Oh!\n",
      "\n"
     ]
    }
   ],
   "source": [
    "def cancion(animales,sonidos):\n",
    "    print(\"El viejo MacDonald tenía una granja, Ee-IGH, Ee-IGH, Oh! \\n\\\n",
    "    Y en esa granja tenía una {0}, Ee-IGH, Ee-IGH, Oh! \\n\\\n",
    "    Con su {1} aquí, con su {1} allá, \\n\\\n",
    "    {1} aquí, {1} allá, siempre con su {1} {1}. \\n\\\n",
    "    El viejo MacDonald tiene una granja, Ee-IGH, Ee-IGH, Oh!\\n\".format(animales,sonidos))\n",
    "\n",
    "animales=['vaca','pollo','dog','cerdo','PATO']\n",
    "sonidos=['MOOO','PIO','WOOF','OINC','QUACK']\n",
    "\n",
    "\n",
    "times = len(animales)\n",
    "for i in range(times):\n",
    "    cancion(animales[i],sonidos[i])\n"
   ]
  },
  {
   "cell_type": "markdown",
   "metadata": {},
   "source": [
    "### 3."
   ]
  },
  {
   "cell_type": "code",
   "execution_count": 7,
   "metadata": {
    "collapsed": false
   },
   "outputs": [
    {
     "name": "stdout",
     "output_type": "stream",
     "text": [
      "Programa que calcula el área y volumen de una esfera.\n",
      "Por favor ingrese los radios de la esfera: 6\n",
      "\n",
      "Con los radios de 6, el área de la esferea es 452.39 y el volumen es 904.78.\n"
     ]
    }
   ],
   "source": [
    "import math\n",
    " \n",
    "def sphereArea(radios):\n",
    "    area = math.pi * 4 * (radios ** 2)\n",
    "    return area\n",
    " \n",
    "def sphereVolume(radios):\n",
    "    volumen = (4/3) * math.pi * (radios ** 3)\n",
    "    return volumen\n",
    " \n",
    "def main():\n",
    "    print(\"Programa que calcula el área y volumen de una esfera.\")\n",
    "    radiosEnter = eval(input(\"Por favor ingrese los radios de la esfera: \"))\n",
    "    area = sphereArea(radiosEnter)\n",
    "    vol = sphereVolume(radiosEnter)\n",
    "    print(\"\\nCon los radios de {}, el área de la esferea es {:.2f} y el volumen es {:.2f}.\".format(radiosEnter,area,vol))\n",
    "       \n",
    "main()"
   ]
  },
  {
   "cell_type": "markdown",
   "metadata": {},
   "source": [
    "### 4."
   ]
  },
  {
   "cell_type": "code",
   "execution_count": 1,
   "metadata": {
    "collapsed": false
   },
   "outputs": [
    {
     "name": "stdout",
     "output_type": "stream",
     "text": [
      "Programa que calcula la suma de los primeros N números naturales\n",
      "y la suma de los primeros N números naturales elevados en una potencia a la 3.\n",
      "Por favor ingrese cualquier número: 5\n",
      "\n",
      "La suma de los primeros 5 números naturales es: 10.\n",
      "La suma de los cubos de los primeros 5 números naturales es 100.\n"
     ]
    }
   ],
   "source": [
    "def sumN(num):   \n",
    "    sumNtemp = 0\n",
    "    for i in range(num):\n",
    "        sumNtemp = sumNtemp+i\n",
    "    return sumNtemp\n",
    "  \n",
    "def sumCubeN(num):\n",
    "    sumCubeNtemp = 0\n",
    "    for i in range(num):\n",
    "        sumCubeNtemp = sumCubeNtemp+(i**3)\n",
    "    return sumCubeNtemp\n",
    " \n",
    " \n",
    "def main():\n",
    "    print(\"Programa que calcula la suma de los primeros N números naturales\\ny la suma de los primeros N números naturales elevados en una potencia a la 3.\")\n",
    "    #print(\"Program to calculate sum of first N natural number\\nand sum of cube of first N natural number.\")\n",
    "    userNum = eval(input(\"Por favor ingrese cualquier número: \"))\n",
    "    sums = sumN(userNum)\n",
    "    cubes = sumCubeN(userNum)\n",
    "     \n",
    "    print(\"\\nLa suma de los primeros {0} números naturales es: {1}.\\nLa suma de los cubos de los primeros {0} números naturales es {2}.\".format(userNum,sums,cubes))\n",
    " \n",
    "main()"
   ]
  },
  {
   "cell_type": "markdown",
   "metadata": {
    "collapsed": true
   },
   "source": [
    "### 11."
   ]
  },
  {
   "cell_type": "code",
   "execution_count": 6,
   "metadata": {
    "collapsed": false
   },
   "outputs": [
    {
     "name": "stdout",
     "output_type": "stream",
     "text": [
      "Un programa que eleva al cuadrado los números ingresados.\n",
      "Por favor, entre varios números separados por coma: 4,5,6,7,8,9,10\n",
      "\n",
      "El resultado de los números al cuadrado es:  [16, 25, 36, 49, 64, 81, 100]\n"
     ]
    }
   ],
   "source": [
    "def squareEach(nums):\n",
    "    entrada = 0\n",
    "    for i in nums:\n",
    "        nums[entrada] = i ** 2\n",
    "        entrada = entrada + 1   \n",
    " \n",
    "def main():\n",
    "    print(\"Un programa que eleva al cuadrado los números ingresados.\")\n",
    "    nums = input(\"Por favor, entre varios números separados por coma: \")\n",
    "    nums = nums.split(\",\")            \n",
    "    entrada = 0\n",
    "    for i in nums:                 \n",
    "        nums[entrada] = int(i)\n",
    "        entrada = entrada + 1           \n",
    "    squareEach(nums)\n",
    "    print(\"\\nEl resultado de los números al cuadrado es: \",nums)\n",
    "       \n",
    "main()"
   ]
  },
  {
   "cell_type": "markdown",
   "metadata": {},
   "source": [
    "### 12."
   ]
  },
  {
   "cell_type": "code",
   "execution_count": 9,
   "metadata": {
    "collapsed": false
   },
   "outputs": [
    {
     "name": "stdout",
     "output_type": "stream",
     "text": [
      "Un programa que suma todo los números dados.\n",
      "Por favor introdusca varios números separados por coma: 1,2,3,4,5,6,7,8,9,10\n",
      "\n",
      "El resultado de la suma de los números de la lista es 55.\n"
     ]
    }
   ],
   "source": [
    "def sumList(nums):\n",
    "    total = 0\n",
    "    for i in nums:\n",
    "        total = total + i\n",
    "    return total\n",
    " \n",
    "def main():\n",
    "    print(\"Un programa que suma todo los números dados.\")\n",
    "    nums = input(\"Por favor introdusca varios números separados por coma: \")\n",
    "    nums = nums.split(\",\")      \n",
    "    entrada = 0\n",
    "    for i in nums:                 \n",
    "        nums[entrada] = int(i)\n",
    "        entrada = entrada + 1 \n",
    "    sumTotal = sumList(nums)     \n",
    "    print(\"\\nEl resultado de la suma de los números de la lista es {}.\".format(sumTotal))\n",
    "    \n",
    "main()"
   ]
  },
  {
   "cell_type": "markdown",
   "metadata": {},
   "source": [
    "### 13."
   ]
  },
  {
   "cell_type": "code",
   "execution_count": 13,
   "metadata": {
    "collapsed": false
   },
   "outputs": [
    {
     "name": "stdout",
     "output_type": "stream",
     "text": [
      "Un programa que convierte caracteres a números reales.\n",
      "Por favor introdusca varios números separados por coma: 5,6,7,8,9\n",
      "\n",
      "La lista de los números es: [5, 6, 7, 8, 9]\n"
     ]
    }
   ],
   "source": [
    "def toNumbers(strList):\n",
    "     \n",
    "    entrada = 0\n",
    "    for i in strList:\n",
    "        strList[entrada] = int(i)\n",
    "        entrada = entrada + 1\n",
    "     \n",
    "def main():\n",
    "    print(\"Un programa que convierte caracteres a números reales.\")\n",
    "    strList = input(\"Por favor introdusca varios números separados por coma: \")\n",
    "    strList = strList.split(\",\")\n",
    "    toNumbers(strList)                     \n",
    "    print(\"\\nLa lista de los números es:\",strList)\n",
    "    \n",
    "main()"
   ]
  },
  {
   "cell_type": "code",
   "execution_count": null,
   "metadata": {
    "collapsed": true
   },
   "outputs": [],
   "source": []
  }
 ],
 "metadata": {
  "anaconda-cloud": {},
  "kernelspec": {
   "display_name": "Python [Root]",
   "language": "python",
   "name": "Python [Root]"
  },
  "language_info": {
   "codemirror_mode": {
    "name": "ipython",
    "version": 3
   },
   "file_extension": ".py",
   "mimetype": "text/x-python",
   "name": "python",
   "nbconvert_exporter": "python",
   "pygments_lexer": "ipython3",
   "version": "3.5.2"
  }
 },
 "nbformat": 4,
 "nbformat_minor": 0
}
