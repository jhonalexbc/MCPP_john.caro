{
 "cells": [
  {
   "cell_type": "markdown",
   "metadata": {},
   "source": [
    "# Taller 2\n",
    "Métodos Computacionales para Políticas Públicas - URosario\n",
    "\n",
    "**Entrega: viernes 19-ago-2016 11:59 PM**"
   ]
  },
  {
   "cell_type": "markdown",
   "metadata": {},
   "source": [
    "<div class=\"alert alert-success\">\n",
    "**[John Alexander Caro Becerra]** <br><br>\n",
    "[jhonalexbc@gmail.com]\n",
    "</div>"
   ]
  },
  {
   "cell_type": "markdown",
   "metadata": {},
   "source": [
    "## Instrucciones:\n",
    "- Guarde una copia de este *Jupyter Notebook* en su computador, idealmente en una carpeta destinada al material del curso.\n",
    "- Modifique el nombre del archivo del *notebook*, agregando al final un guión inferior y su nombre y apellido, separados estos últimos por otro guión inferior. Por ejemplo, mi *notebook* se llamaría: mcpp_taller2_santiago_matallana\n",
    "- Marque el *notebook* con su nombre y e-mail en el bloque verde arriba. Reemplace el texto \"[Su nombre acá]\" con su nombre y apellido. Similar para su e-mail.\n",
    "- Desarrolle la totalidad del taller sobre este *notebook*, insertando las celdas que sea necesario debajo de cada pregunta. Haga buen uso de las celdas para código y de las celdas tipo *markdown* según el caso.\n",
    "- Recuerde salvar periódicamente sus avances.\n",
    "- Cuando termine el taller:\n",
    "    1. Descárguelo en PDF.\n",
    "    2. Suba los dos archivos (.pdf y .ipynb) a su repositorio en GitHub antes de la fecha y hora límites.\n",
    "\n",
    "(El valor de cada ejercicio está en corchetes [ ] después del número de ejercicio.)"
   ]
  },
  {
   "cell_type": "markdown",
   "metadata": {},
   "source": [
    "---"
   ]
  },
  {
   "cell_type": "markdown",
   "metadata": {},
   "source": [
    "## 1. [1]\n",
    "\n",
    "[Pensar como un computador] Considere el siguiente código:"
   ]
  },
  {
   "cell_type": "raw",
   "metadata": {},
   "source": [
    "if x > 2:\n",
    "    if y > 2:\n",
    "        z = x + y\n",
    "        print(\"z es\", z)\n",
    "else:\n",
    "    print(\"x es\", x)"
   ]
  },
  {
   "cell_type": "markdown",
   "metadata": {},
   "source": [
    "¿Cuál es el resultado si\n",
    "\n",
    "a)  x = 2, y = 5?\n",
    "\n",
    "b)  x = 3, y = 1?\n",
    "\n",
    "c)  x = 1, y = 1? \n",
    "\n",
    "d)  x = 4, y = 3?"
   ]
  },
  {
   "cell_type": "markdown",
   "metadata": {},
   "source": [
    "a) el resultado de la programación es \"x es 2\"\n",
    "\n",
    "b) el resultado de la programación es vacio, osea no sale nada\n",
    "\n",
    "c) el resultado de la programación es \"x es 1\"\n",
    "\n",
    "d) el resultado de la programación es \"z es 7\""
   ]
  },
  {
   "cell_type": "markdown",
   "metadata": {},
   "source": [
    "## 2. [1]\n",
    "[Pensar como un computador] ¿Cuál es el resultado del siguiente código y cuántas veces se recorre el loop?"
   ]
  },
  {
   "cell_type": "raw",
   "metadata": {},
   "source": [
    "i = 0\n",
    "while i < 10:\n",
    "    i = i + 1\n",
    "    if i % 2 == 0:\n",
    "        print(i)"
   ]
  },
  {
   "cell_type": "markdown",
   "metadata": {},
   "source": [
    "El resultado del codigo es una secuencia de números pares comenzando desde 0 hasta 10 es decir\n",
    "\n",
    "0,2,4,6,8,10\n",
    "\n",
    "Pero las veces que se corre son 10 veces "
   ]
  },
  {
   "cell_type": "markdown",
   "metadata": {},
   "source": [
    "## 3. [1]\n",
    "[Pensar como un computador] ¿Cuál es el resultado del siguiente código y cuántas veces se recorre el loop?"
   ]
  },
  {
   "cell_type": "raw",
   "metadata": {},
   "source": [
    "i = 0\n",
    "while i > 10:\n",
    "    i = i + 1\n",
    "    if i % 2 == 0:\n",
    "        print(i)"
   ]
  },
  {
   "cell_type": "markdown",
   "metadata": {},
   "source": [
    "no da resultado ya que como i = 0, no realiza el loop ni una vez y de paso no se corre el loop"
   ]
  },
  {
   "cell_type": "markdown",
   "metadata": {},
   "source": [
    "## 4.  [2]\n",
    "Escriba un programa que pida al usuario ingresar un número entero, y que imprima \"par\" si el número es par e \"impar\" si el número es impar. Agregue a su programa un código que genere una advertencia en caso de que el usuario ingrese algo diferente a un número entero: \"Error. El usuario debe ingresar un número entero.\" (Investigue por su cuenta cómo lograr dicha validación y la generación del mensaje.)"
   ]
  },
  {
   "cell_type": "code",
   "execution_count": 6,
   "metadata": {
    "collapsed": false
   },
   "outputs": [
    {
     "name": "stdout",
     "output_type": "stream",
     "text": [
      "Por favor ingrese un número entero\n",
      "41\n",
      "El número ingresado: 41  es impar\n"
     ]
    }
   ],
   "source": [
    "print(\"Por favor ingrese un número entero\")\n",
    "a = input()\n",
    "try:\n",
    "    aa = int(a)\n",
    "    if type(aa) != int:\n",
    "        print(\"Error. El usuario debe ingresar un número entero.\")\n",
    "    if (aa % 2) == 0:\n",
    "        print(\"El número ingresado:\",aa,\" es par\")\n",
    "    else:\n",
    "        print(\"El número ingresado:\",aa,\" es impar\")\n",
    "except ValueError:\n",
    "    print(\"Error. El usuario debe ingresar un número entero, o un número al menos.\")\n",
    "    pass"
   ]
  },
  {
   "cell_type": "markdown",
   "metadata": {},
   "source": [
    "## 5.  [2]\n",
    "Escriba un <font face=\"consolas\">for</font> loop que imprima todos los múltiplos de 3 desde 40 hasta 0 en orden decreciente. Esto es, 39, 36, 33,..., 3, 0."
   ]
  },
  {
   "cell_type": "code",
   "execution_count": 5,
   "metadata": {
    "collapsed": false,
    "scrolled": true
   },
   "outputs": [
    {
     "name": "stdout",
     "output_type": "stream",
     "text": [
      "39\n",
      "36\n",
      "33\n",
      "30\n",
      "27\n",
      "24\n",
      "21\n",
      "18\n",
      "15\n",
      "12\n",
      "9\n",
      "6\n",
      "3\n"
     ]
    }
   ],
   "source": [
    "#len(range(0,41))\n",
    "x = 41\n",
    "for i in range(41):\n",
    "    x = x - 1\n",
    "    if (x % 3) == 0:\n",
    "        if (x != 0):\n",
    "            print(x)"
   ]
  },
  {
   "cell_type": "markdown",
   "metadata": {},
   "source": [
    "## 6. [2]\n",
    "Escriba un loop que imprima todos los números entre 6 y 30 que no son divisibles por 2, 3 o 5."
   ]
  },
  {
   "cell_type": "code",
   "execution_count": 4,
   "metadata": {
    "collapsed": false
   },
   "outputs": [
    {
     "name": "stdout",
     "output_type": "stream",
     "text": [
      "7\n",
      "11\n",
      "13\n",
      "17\n",
      "19\n",
      "23\n",
      "29\n"
     ]
    }
   ],
   "source": [
    "for j in range(6,31):\n",
    "    z = j\n",
    "    if (z % 2) != 0:\n",
    "        if (z % 3) != 0:\n",
    "            if (z % 5) != 0:\n",
    "                print(z)"
   ]
  },
  {
   "cell_type": "markdown",
   "metadata": {},
   "source": [
    "## 7. [4]\n",
    "Escriba un programa llamado \"Adivine ni número\". El computador generará aleatoriamente un entero entre 1 y 100. El usuario digita un número y el computador responde \"Menor\" si el número aleatorio es menor que el escogido por el usuario, \"Mayor\" si el número aleatorio es mayor, y \"¡Correcto!\" si el usuario adivina el número. El jugador puede continuar ingresando números hasta que adivine correctamente.\n",
    "\n",
    "**Ejemplo:**\n",
    "- El número aleatorio es 79.\n",
    "- El computador muestra el texto \"Adivine el número entre 1 y 100:\" y espera a que el usuario lo digite.\n",
    "- El usuario digita el número que está abajo en itálicas.\n",
    "- El computador devuelve uno de tres textos, según el caso: \"Mayor\", \"Menor\", o \"¡Correcto!\"."
   ]
  },
  {
   "cell_type": "markdown",
   "metadata": {},
   "source": [
    "<font color=\"green\">Adivine el número entre 1 y 100: *40*<br>\n",
    "<font face=\"consolas\">Mayor</font>\n",
    "\n",
    "Adivine el número entre 1 y 100: *70*\n",
    "<font face=\"consolas\">Mayor</font>\n",
    "\n",
    "Adivine el número entre 1 y 100: *80*\n",
    "<font face=\"consolas\">Menor</font>\n",
    "\n",
    "Adivine el número entre 1 y 100: *77*\n",
    "<font face=\"consolas\">Mayor</font>\n",
    "\n",
    "Adivine el número entre 1 y 100: *79*\n",
    "<font face=\"consolas\">¡Correcto!</font></font>"
   ]
  },
  {
   "cell_type": "markdown",
   "metadata": {},
   "source": [
    "**¿Cómo generar números aleatorios en Python?**\n",
    "\n",
    "- Al comienzo de su programa escriba: <font face=\"consolas\" color=\"green\">import random</font>\n",
    "- Para generar un número aleatorio entre 1 y 100 escriba: <font face=\"consolas\" color=\"green\">random.randint(1, 100)</font>\n"
   ]
  },
  {
   "cell_type": "markdown",
   "metadata": {},
   "source": [
    "**Pistas:**\n",
    "\n",
    "- Piense en qué estructuras de control le sirven para resolver el problema.\n",
    "- ¿Cómo determina si el número es mayor, menor o correcto?\n",
    "- ¿Cómo le da turnos adicionales al usuario para adivinar, dependiendo de si en el turno anterior adivinó o no?"
   ]
  },
  {
   "cell_type": "code",
   "execution_count": 3,
   "metadata": {
    "collapsed": false
   },
   "outputs": [
    {
     "name": "stdout",
     "output_type": "stream",
     "text": [
      "Adivine el número entre 1 y 100: Ingrese un número\n",
      "45\n",
      "Menor\n",
      "40\n",
      "Menor\n",
      "30\n",
      "Menor\n",
      "20\n",
      "Mayor\n",
      "25\n",
      "Menor\n",
      "24\n",
      "Menor\n",
      "23\n",
      "Menor\n",
      "22\n",
      "¡Correcto!\n"
     ]
    }
   ],
   "source": [
    "import random\n",
    "\n",
    "num_random = random.randint(1, 100)\n",
    "print(\"Adivine el número entre 1 y 100: Ingrese un número\")\n",
    "b = input()\n",
    "try:\n",
    "    aa = int(b)\n",
    "    if type(aa) != int:\n",
    "        print(\"Error. El usuario debe ingresar un número entre 1 y 100.\")\n",
    "except ValueError:\n",
    "    print(\"Error. El usuario debe ingresar un número entre 1 y 100.\")\n",
    "    b = input()\n",
    "    aa = int(b)\n",
    "    pass\n",
    "for z in range(1000000):\n",
    "    if aa < num_random:\n",
    "        print(\"Mayor\")\n",
    "        b = input()\n",
    "        aa= int(b)\n",
    "    elif aa > num_random:\n",
    "        print(\"Menor\")\n",
    "        b = input()\n",
    "        aa= int(b)\n",
    "    else:\n",
    "        print(\"¡Correcto!\")\n",
    "        break"
   ]
  }
 ],
 "metadata": {
  "anaconda-cloud": {},
  "kernelspec": {
   "display_name": "Python [Root]",
   "language": "python",
   "name": "Python [Root]"
  },
  "language_info": {
   "codemirror_mode": {
    "name": "ipython",
    "version": 3
   },
   "file_extension": ".py",
   "mimetype": "text/x-python",
   "name": "python",
   "nbconvert_exporter": "python",
   "pygments_lexer": "ipython3",
   "version": "3.5.2"
  }
 },
 "nbformat": 4,
 "nbformat_minor": 0
}
